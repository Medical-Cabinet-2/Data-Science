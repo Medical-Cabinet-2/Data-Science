{
 "cells": [
  {
   "cell_type": "code",
   "execution_count": 1,
   "metadata": {},
   "outputs": [],
   "source": [
    "import requests"
   ]
  },
  {
   "cell_type": "code",
   "execution_count": 2,
   "metadata": {},
   "outputs": [],
   "source": [
    "import pandas as pd"
   ]
  },
  {
   "cell_type": "code",
   "execution_count": 3,
   "metadata": {},
   "outputs": [],
   "source": [
    "key = 'QsLigX4'\n",
    "\n",
    "url = 'https://strainapi.evanbusse.com/{}/strains/search/all'.format(key)\n",
    "\n",
    "r = requests.request('GET', url=url)"
   ]
  },
  {
   "cell_type": "code",
   "execution_count": 4,
   "metadata": {},
   "outputs": [
    {
     "data": {
      "text/plain": [
       "<Response [200]>"
      ]
     },
     "execution_count": 4,
     "metadata": {},
     "output_type": "execute_result"
    }
   ],
   "source": [
    "r"
   ]
  },
  {
   "cell_type": "markdown",
   "metadata": {},
   "source": [
    "## Get the Strain API data and clean it"
   ]
  },
  {
   "cell_type": "code",
   "execution_count": 92,
   "metadata": {},
   "outputs": [
    {
     "name": "stdout",
     "output_type": "stream",
     "text": [
      "Creating pandas dataframe from API response json...\n",
      "Dataframe Created, shape: (1970, 5)\n"
     ]
    },
    {
     "data": {
      "text/html": [
       "<div>\n",
       "<style scoped>\n",
       "    .dataframe tbody tr th:only-of-type {\n",
       "        vertical-align: middle;\n",
       "    }\n",
       "\n",
       "    .dataframe tbody tr th {\n",
       "        vertical-align: top;\n",
       "    }\n",
       "\n",
       "    .dataframe thead th {\n",
       "        text-align: right;\n",
       "    }\n",
       "</style>\n",
       "<table border=\"1\" class=\"dataframe\">\n",
       "  <thead>\n",
       "    <tr style=\"text-align: right;\">\n",
       "      <th></th>\n",
       "      <th>name</th>\n",
       "      <th>effects</th>\n",
       "      <th>flavors</th>\n",
       "      <th>id</th>\n",
       "      <th>race</th>\n",
       "    </tr>\n",
       "  </thead>\n",
       "  <tbody>\n",
       "    <tr>\n",
       "      <th>0</th>\n",
       "      <td>Afpak</td>\n",
       "      <td>{'positive': ['Relaxed', 'Hungry', 'Happy', 'S...</td>\n",
       "      <td>[Earthy, Chemical, Pine]</td>\n",
       "      <td>1</td>\n",
       "      <td>hybrid</td>\n",
       "    </tr>\n",
       "    <tr>\n",
       "      <th>1</th>\n",
       "      <td>African</td>\n",
       "      <td>{'positive': ['Euphoric', 'Happy', 'Creative',...</td>\n",
       "      <td>[Spicy/Herbal, Pungent, Earthy]</td>\n",
       "      <td>2</td>\n",
       "      <td>sativa</td>\n",
       "    </tr>\n",
       "    <tr>\n",
       "      <th>2</th>\n",
       "      <td>Afternoon Delight</td>\n",
       "      <td>{'positive': ['Relaxed', 'Hungry', 'Euphoric',...</td>\n",
       "      <td>[Pepper, Flowery, Pine]</td>\n",
       "      <td>3</td>\n",
       "      <td>hybrid</td>\n",
       "    </tr>\n",
       "  </tbody>\n",
       "</table>\n",
       "</div>"
      ],
      "text/plain": [
       "                name                                            effects  \\\n",
       "0              Afpak  {'positive': ['Relaxed', 'Hungry', 'Happy', 'S...   \n",
       "1            African  {'positive': ['Euphoric', 'Happy', 'Creative',...   \n",
       "2  Afternoon Delight  {'positive': ['Relaxed', 'Hungry', 'Euphoric',...   \n",
       "\n",
       "                           flavors id    race  \n",
       "0         [Earthy, Chemical, Pine]  1  hybrid  \n",
       "1  [Spicy/Herbal, Pungent, Earthy]  2  sativa  \n",
       "2          [Pepper, Flowery, Pine]  3  hybrid  "
      ]
     },
     "execution_count": 92,
     "metadata": {},
     "output_type": "execute_result"
    }
   ],
   "source": [
    "json = r.json()\n",
    "\n",
    "print('Creating pandas dataframe from API response json...')\n",
    "df = pd.DataFrame.from_dict(json).T.reset_index()\n",
    "df = df.rename(columns={'index':'name'})\n",
    "print('Dataframe Created, shape: {}'.format(df.shape))\n",
    "df.head(3)"
   ]
  },
  {
   "cell_type": "code",
   "execution_count": 93,
   "metadata": {},
   "outputs": [
    {
     "name": "stdout",
     "output_type": "stream",
     "text": [
      "Initializing Effect lists...\n",
      "Lists initialized:\n",
      "Positive shape: 0\tNegative Shape: 0\tMedical Shape: 0\n",
      "Generating individual effect lists...\n",
      "Lists populated:\n",
      "Positive shape: 1970\tNegative Shape: 1970\tMedical Shape: 1970\n",
      "Setting columns in dataframe to effect lists...\n",
      "Columns created:\n"
     ]
    },
    {
     "data": {
      "text/html": [
       "<div>\n",
       "<style scoped>\n",
       "    .dataframe tbody tr th:only-of-type {\n",
       "        vertical-align: middle;\n",
       "    }\n",
       "\n",
       "    .dataframe tbody tr th {\n",
       "        vertical-align: top;\n",
       "    }\n",
       "\n",
       "    .dataframe thead th {\n",
       "        text-align: right;\n",
       "    }\n",
       "</style>\n",
       "<table border=\"1\" class=\"dataframe\">\n",
       "  <thead>\n",
       "    <tr style=\"text-align: right;\">\n",
       "      <th></th>\n",
       "      <th>name</th>\n",
       "      <th>effects</th>\n",
       "      <th>flavors</th>\n",
       "      <th>id</th>\n",
       "      <th>race</th>\n",
       "      <th>positive</th>\n",
       "      <th>negative</th>\n",
       "      <th>medical</th>\n",
       "    </tr>\n",
       "  </thead>\n",
       "  <tbody>\n",
       "    <tr>\n",
       "      <th>0</th>\n",
       "      <td>Afpak</td>\n",
       "      <td>{'positive': ['Relaxed', 'Hungry', 'Happy', 'S...</td>\n",
       "      <td>[Earthy, Chemical, Pine]</td>\n",
       "      <td>1</td>\n",
       "      <td>hybrid</td>\n",
       "      <td>[Relaxed, Hungry, Happy, Sleepy]</td>\n",
       "      <td>[Dizzy]</td>\n",
       "      <td>[Depression, Insomnia, Pain, Stress, Lack of A...</td>\n",
       "    </tr>\n",
       "    <tr>\n",
       "      <th>1</th>\n",
       "      <td>African</td>\n",
       "      <td>{'positive': ['Euphoric', 'Happy', 'Creative',...</td>\n",
       "      <td>[Spicy/Herbal, Pungent, Earthy]</td>\n",
       "      <td>2</td>\n",
       "      <td>sativa</td>\n",
       "      <td>[Euphoric, Happy, Creative, Energetic, Talkative]</td>\n",
       "      <td>[Dry Mouth]</td>\n",
       "      <td>[Depression, Pain, Stress, Lack of Appetite, N...</td>\n",
       "    </tr>\n",
       "    <tr>\n",
       "      <th>2</th>\n",
       "      <td>Afternoon Delight</td>\n",
       "      <td>{'positive': ['Relaxed', 'Hungry', 'Euphoric',...</td>\n",
       "      <td>[Pepper, Flowery, Pine]</td>\n",
       "      <td>3</td>\n",
       "      <td>hybrid</td>\n",
       "      <td>[Relaxed, Hungry, Euphoric, Uplifted, Tingly]</td>\n",
       "      <td>[Dizzy, Dry Mouth, Paranoid]</td>\n",
       "      <td>[Depression, Insomnia, Pain, Stress, Cramps, H...</td>\n",
       "    </tr>\n",
       "  </tbody>\n",
       "</table>\n",
       "</div>"
      ],
      "text/plain": [
       "                name                                            effects  \\\n",
       "0              Afpak  {'positive': ['Relaxed', 'Hungry', 'Happy', 'S...   \n",
       "1            African  {'positive': ['Euphoric', 'Happy', 'Creative',...   \n",
       "2  Afternoon Delight  {'positive': ['Relaxed', 'Hungry', 'Euphoric',...   \n",
       "\n",
       "                           flavors id    race  \\\n",
       "0         [Earthy, Chemical, Pine]  1  hybrid   \n",
       "1  [Spicy/Herbal, Pungent, Earthy]  2  sativa   \n",
       "2          [Pepper, Flowery, Pine]  3  hybrid   \n",
       "\n",
       "                                            positive  \\\n",
       "0                   [Relaxed, Hungry, Happy, Sleepy]   \n",
       "1  [Euphoric, Happy, Creative, Energetic, Talkative]   \n",
       "2      [Relaxed, Hungry, Euphoric, Uplifted, Tingly]   \n",
       "\n",
       "                       negative  \\\n",
       "0                       [Dizzy]   \n",
       "1                   [Dry Mouth]   \n",
       "2  [Dizzy, Dry Mouth, Paranoid]   \n",
       "\n",
       "                                             medical  \n",
       "0  [Depression, Insomnia, Pain, Stress, Lack of A...  \n",
       "1  [Depression, Pain, Stress, Lack of Appetite, N...  \n",
       "2  [Depression, Insomnia, Pain, Stress, Cramps, H...  "
      ]
     },
     "execution_count": 93,
     "metadata": {},
     "output_type": "execute_result"
    }
   ],
   "source": [
    "print('Initializing Effect lists...')\n",
    "positive = []\n",
    "negative = []\n",
    "medical = []\n",
    "print('Lists initialized:')\n",
    "s = 'Positive shape: {}\\tNegative Shape: {}\\tMedical Shape: {}'\n",
    "print(s.format(len(positive), len(negative), len(medical)))\n",
    "\n",
    "print('Generating individual effect lists...')\n",
    "for index, row in df.iterrows():\n",
    "    positive.append(row['effects']['positive'])\n",
    "    negative.append(row['effects']['negative'])\n",
    "    medical.append(row['effects']['medical'])\n",
    "\n",
    "print('Lists populated:')\n",
    "print(s.format(len(positive), len(negative), len(medical)))\n",
    "    \n",
    "print('Setting columns in dataframe to effect lists...')\n",
    "df['positive'] = positive\n",
    "df['negative'] = negative\n",
    "df['medical'] = medical\n",
    "\n",
    "print('Columns created:')\n",
    "df.head(3)"
   ]
  },
  {
   "cell_type": "code",
   "execution_count": 94,
   "metadata": {},
   "outputs": [
    {
     "name": "stdout",
     "output_type": "stream",
     "text": [
      "Removing redundant \"effects\" column\n",
      "Column removed:\n"
     ]
    },
    {
     "data": {
      "text/html": [
       "<div>\n",
       "<style scoped>\n",
       "    .dataframe tbody tr th:only-of-type {\n",
       "        vertical-align: middle;\n",
       "    }\n",
       "\n",
       "    .dataframe tbody tr th {\n",
       "        vertical-align: top;\n",
       "    }\n",
       "\n",
       "    .dataframe thead th {\n",
       "        text-align: right;\n",
       "    }\n",
       "</style>\n",
       "<table border=\"1\" class=\"dataframe\">\n",
       "  <thead>\n",
       "    <tr style=\"text-align: right;\">\n",
       "      <th></th>\n",
       "      <th>name</th>\n",
       "      <th>flavors</th>\n",
       "      <th>id</th>\n",
       "      <th>race</th>\n",
       "      <th>positive</th>\n",
       "      <th>negative</th>\n",
       "      <th>medical</th>\n",
       "    </tr>\n",
       "  </thead>\n",
       "  <tbody>\n",
       "    <tr>\n",
       "      <th>0</th>\n",
       "      <td>Afpak</td>\n",
       "      <td>[Earthy, Chemical, Pine]</td>\n",
       "      <td>1</td>\n",
       "      <td>hybrid</td>\n",
       "      <td>[Relaxed, Hungry, Happy, Sleepy]</td>\n",
       "      <td>[Dizzy]</td>\n",
       "      <td>[Depression, Insomnia, Pain, Stress, Lack of A...</td>\n",
       "    </tr>\n",
       "  </tbody>\n",
       "</table>\n",
       "</div>"
      ],
      "text/plain": [
       "    name                   flavors id    race  \\\n",
       "0  Afpak  [Earthy, Chemical, Pine]  1  hybrid   \n",
       "\n",
       "                           positive negative  \\\n",
       "0  [Relaxed, Hungry, Happy, Sleepy]  [Dizzy]   \n",
       "\n",
       "                                             medical  \n",
       "0  [Depression, Insomnia, Pain, Stress, Lack of A...  "
      ]
     },
     "execution_count": 94,
     "metadata": {},
     "output_type": "execute_result"
    }
   ],
   "source": [
    "print('Removing redundant \"effects\" column')\n",
    "df = df.drop('effects', axis=1)\n",
    "print('Column removed:')\n",
    "df.head(1)"
   ]
  },
  {
   "cell_type": "code",
   "execution_count": 95,
   "metadata": {},
   "outputs": [],
   "source": [
    "df_strain = df.copy()"
   ]
  },
  {
   "cell_type": "markdown",
   "metadata": {},
   "source": [
    "## Get Kaggle Dataset\n",
    "#### Was saved locally and put into same folder as this notebook"
   ]
  },
  {
   "cell_type": "code",
   "execution_count": 179,
   "metadata": {},
   "outputs": [],
   "source": [
    "try:\n",
    "    df_kag = pd.read_csv('./cannabis-strains/cannabis.csv')\n",
    "except Exception as e:\n",
    "    print(e)\n",
    "    print('The file was unable to be found, make sure to download it from here:')\n",
    "    print('https://www.kaggle.com/kingburrito666/cannabis-strains/download')\n",
    "    print('Then extract the folder called \"cannabis-strains\" to the folder containing this notebook')"
   ]
  },
  {
   "cell_type": "code",
   "execution_count": 180,
   "metadata": {},
   "outputs": [
    {
     "data": {
      "text/html": [
       "<div>\n",
       "<style scoped>\n",
       "    .dataframe tbody tr th:only-of-type {\n",
       "        vertical-align: middle;\n",
       "    }\n",
       "\n",
       "    .dataframe tbody tr th {\n",
       "        vertical-align: top;\n",
       "    }\n",
       "\n",
       "    .dataframe thead th {\n",
       "        text-align: right;\n",
       "    }\n",
       "</style>\n",
       "<table border=\"1\" class=\"dataframe\">\n",
       "  <thead>\n",
       "    <tr style=\"text-align: right;\">\n",
       "      <th></th>\n",
       "      <th>Strain</th>\n",
       "      <th>Type</th>\n",
       "      <th>Rating</th>\n",
       "      <th>Effects</th>\n",
       "      <th>Flavor</th>\n",
       "      <th>Description</th>\n",
       "    </tr>\n",
       "  </thead>\n",
       "  <tbody>\n",
       "    <tr>\n",
       "      <th>0</th>\n",
       "      <td>100-Og</td>\n",
       "      <td>hybrid</td>\n",
       "      <td>4.0</td>\n",
       "      <td>Creative,Energetic,Tingly,Euphoric,Relaxed</td>\n",
       "      <td>Earthy,Sweet,Citrus</td>\n",
       "      <td>$100 OG is a 50/50 hybrid strain that packs a ...</td>\n",
       "    </tr>\n",
       "    <tr>\n",
       "      <th>1</th>\n",
       "      <td>98-White-Widow</td>\n",
       "      <td>hybrid</td>\n",
       "      <td>4.7</td>\n",
       "      <td>Relaxed,Aroused,Creative,Happy,Energetic</td>\n",
       "      <td>Flowery,Violet,Diesel</td>\n",
       "      <td>The ‘98 Aloha White Widow is an especially pot...</td>\n",
       "    </tr>\n",
       "    <tr>\n",
       "      <th>2</th>\n",
       "      <td>1024</td>\n",
       "      <td>sativa</td>\n",
       "      <td>4.4</td>\n",
       "      <td>Uplifted,Happy,Relaxed,Energetic,Creative</td>\n",
       "      <td>Spicy/Herbal,Sage,Woody</td>\n",
       "      <td>1024 is a sativa-dominant hybrid bred in Spain...</td>\n",
       "    </tr>\n",
       "  </tbody>\n",
       "</table>\n",
       "</div>"
      ],
      "text/plain": [
       "           Strain    Type  Rating                                     Effects  \\\n",
       "0          100-Og  hybrid     4.0  Creative,Energetic,Tingly,Euphoric,Relaxed   \n",
       "1  98-White-Widow  hybrid     4.7    Relaxed,Aroused,Creative,Happy,Energetic   \n",
       "2            1024  sativa     4.4   Uplifted,Happy,Relaxed,Energetic,Creative   \n",
       "\n",
       "                    Flavor                                        Description  \n",
       "0      Earthy,Sweet,Citrus  $100 OG is a 50/50 hybrid strain that packs a ...  \n",
       "1    Flowery,Violet,Diesel  The ‘98 Aloha White Widow is an especially pot...  \n",
       "2  Spicy/Herbal,Sage,Woody  1024 is a sativa-dominant hybrid bred in Spain...  "
      ]
     },
     "execution_count": 180,
     "metadata": {},
     "output_type": "execute_result"
    }
   ],
   "source": [
    "df_kag.head(3)"
   ]
  },
  {
   "cell_type": "code",
   "execution_count": 98,
   "metadata": {},
   "outputs": [],
   "source": [
    "#Rename columns to have the same names as in the Strain API dataframe\n",
    "df_kag = df_kag.rename(columns={'Strain':'name', 'Type':'race'})\n",
    "\n",
    "#Clean the names so they're in the same format as the name in the Strain API so they can be merged on\n",
    "df_kag['name'] = df_kag['name'].apply(lambda x: x.strip().replace('-',' '))"
   ]
  },
  {
   "cell_type": "markdown",
   "metadata": {},
   "source": [
    "### Merge the two datasets based on their name"
   ]
  },
  {
   "cell_type": "code",
   "execution_count": 168,
   "metadata": {},
   "outputs": [],
   "source": [
    "merged = df_strain.merge(df_kag, how='inner', on=['name', 'race'])\n",
    "\n",
    "print(merged.shape)\n",
    "merged.head(3)"
   ]
  },
  {
   "cell_type": "markdown",
   "metadata": {},
   "source": [
    "### Clean and combine columns in the two datasets to form more complete columns\n",
    "#### For example, we can combine all the flavors in the two columns for a more complete list of descriptors for the flavors"
   ]
  },
  {
   "cell_type": "code",
   "execution_count": 169,
   "metadata": {},
   "outputs": [],
   "source": [
    "#The flavors in the kaggle dataset can have any new flavors added to the list from the strain api\n",
    "for index, row in merged.iterrows():\n",
    "    for flav in row['Flavor'].split(','):\n",
    "        if flav not in row['flavors']:\n",
    "            row['flavors'].append(flav)\n",
    "\n",
    "merged = merged.drop('Flavor', axis=1)\n",
    "\n",
    "\n",
    "#The kaggle dataset only lists positive effects, so we can append any effects that are new to the list of positive effects\n",
    "for index, row in merged.iterrows():\n",
    "    for effect in row['Effects'].split(','):\n",
    "        if effect not in row['positive']:\n",
    "            row['positive'].append(effect)\n",
    "            \n",
    "merged = merged.drop('Effects', axis=1)\n",
    "\n",
    "merged = merged.set_index('id')"
   ]
  },
  {
   "cell_type": "markdown",
   "metadata": {},
   "source": [
    "## Final Dataset"
   ]
  },
  {
   "cell_type": "code",
   "execution_count": 181,
   "metadata": {},
   "outputs": [
    {
     "name": "stdout",
     "output_type": "stream",
     "text": [
      "Final Merged Dataset Shape: (1495, 8)\n"
     ]
    },
    {
     "data": {
      "text/html": [
       "<div>\n",
       "<style scoped>\n",
       "    .dataframe tbody tr th:only-of-type {\n",
       "        vertical-align: middle;\n",
       "    }\n",
       "\n",
       "    .dataframe tbody tr th {\n",
       "        vertical-align: top;\n",
       "    }\n",
       "\n",
       "    .dataframe thead th {\n",
       "        text-align: right;\n",
       "    }\n",
       "</style>\n",
       "<table border=\"1\" class=\"dataframe\">\n",
       "  <thead>\n",
       "    <tr style=\"text-align: right;\">\n",
       "      <th></th>\n",
       "      <th>name</th>\n",
       "      <th>flavors</th>\n",
       "      <th>race</th>\n",
       "      <th>positive</th>\n",
       "      <th>negative</th>\n",
       "      <th>medical</th>\n",
       "      <th>Rating</th>\n",
       "      <th>Description</th>\n",
       "    </tr>\n",
       "    <tr>\n",
       "      <th>id</th>\n",
       "      <th></th>\n",
       "      <th></th>\n",
       "      <th></th>\n",
       "      <th></th>\n",
       "      <th></th>\n",
       "      <th></th>\n",
       "      <th></th>\n",
       "      <th></th>\n",
       "    </tr>\n",
       "  </thead>\n",
       "  <tbody>\n",
       "    <tr>\n",
       "      <th>1</th>\n",
       "      <td>Afpak</td>\n",
       "      <td>[Earthy, Chemical, Pine, Spicy/Herbal]</td>\n",
       "      <td>hybrid</td>\n",
       "      <td>[Relaxed, Hungry, Happy, Sleepy, Creative, Foc...</td>\n",
       "      <td>[Dizzy]</td>\n",
       "      <td>[Depression, Insomnia, Pain, Stress, Lack of A...</td>\n",
       "      <td>4.2</td>\n",
       "      <td>Afpak, named for its direct Afghani and Pakist...</td>\n",
       "    </tr>\n",
       "    <tr>\n",
       "      <th>2</th>\n",
       "      <td>African</td>\n",
       "      <td>[Spicy/Herbal, Pungent, Earthy, Pepper]</td>\n",
       "      <td>sativa</td>\n",
       "      <td>[Euphoric, Happy, Creative, Energetic, Talkati...</td>\n",
       "      <td>[Dry Mouth]</td>\n",
       "      <td>[Depression, Pain, Stress, Lack of Appetite, N...</td>\n",
       "      <td>3.9</td>\n",
       "      <td>African refers to the indigenous varieties of ...</td>\n",
       "    </tr>\n",
       "    <tr>\n",
       "      <th>3</th>\n",
       "      <td>Afternoon Delight</td>\n",
       "      <td>[Pepper, Flowery, Pine, Pungent, Citrus, Tropi...</td>\n",
       "      <td>hybrid</td>\n",
       "      <td>[Relaxed, Hungry, Euphoric, Uplifted, Tingly, ...</td>\n",
       "      <td>[Dizzy, Dry Mouth, Paranoid]</td>\n",
       "      <td>[Depression, Insomnia, Pain, Stress, Cramps, H...</td>\n",
       "      <td>4.8</td>\n",
       "      <td>Afternoon Delight, created by Colorado Seed In...</td>\n",
       "    </tr>\n",
       "    <tr>\n",
       "      <th>4</th>\n",
       "      <td>Afwreck</td>\n",
       "      <td>[Pine, Earthy, Flowery, Pungent]</td>\n",
       "      <td>hybrid</td>\n",
       "      <td>[Relaxed, Happy, Creative, Uplifted, Sleepy, E...</td>\n",
       "      <td>[Dizzy, Dry Mouth, Paranoid, Dry Eyes]</td>\n",
       "      <td>[Pain, Stress, Headache, Fatigue, Headaches, M...</td>\n",
       "      <td>4.2</td>\n",
       "      <td>Afwreck is a hybrid cross of Afghani and Train...</td>\n",
       "    </tr>\n",
       "    <tr>\n",
       "      <th>5</th>\n",
       "      <td>Agent Orange</td>\n",
       "      <td>[Citrus, Orange, Sweet, Earthy]</td>\n",
       "      <td>hybrid</td>\n",
       "      <td>[Relaxed, Euphoric, Happy, Energetic, Uplifted]</td>\n",
       "      <td>[Dizzy, Dry Mouth, Paranoid, Dry Eyes]</td>\n",
       "      <td>[Depression, Pain, Stress, Nausea, Headache, H...</td>\n",
       "      <td>4.2</td>\n",
       "      <td>Don’t let the name scare you! The only herbici...</td>\n",
       "    </tr>\n",
       "  </tbody>\n",
       "</table>\n",
       "</div>"
      ],
      "text/plain": [
       "                 name                                            flavors  \\\n",
       "id                                                                         \n",
       "1               Afpak             [Earthy, Chemical, Pine, Spicy/Herbal]   \n",
       "2             African            [Spicy/Herbal, Pungent, Earthy, Pepper]   \n",
       "3   Afternoon Delight  [Pepper, Flowery, Pine, Pungent, Citrus, Tropi...   \n",
       "4             Afwreck                   [Pine, Earthy, Flowery, Pungent]   \n",
       "5        Agent Orange                    [Citrus, Orange, Sweet, Earthy]   \n",
       "\n",
       "      race                                           positive  \\\n",
       "id                                                              \n",
       "1   hybrid  [Relaxed, Hungry, Happy, Sleepy, Creative, Foc...   \n",
       "2   sativa  [Euphoric, Happy, Creative, Energetic, Talkati...   \n",
       "3   hybrid  [Relaxed, Hungry, Euphoric, Uplifted, Tingly, ...   \n",
       "4   hybrid  [Relaxed, Happy, Creative, Uplifted, Sleepy, E...   \n",
       "5   hybrid    [Relaxed, Euphoric, Happy, Energetic, Uplifted]   \n",
       "\n",
       "                                  negative  \\\n",
       "id                                           \n",
       "1                                  [Dizzy]   \n",
       "2                              [Dry Mouth]   \n",
       "3             [Dizzy, Dry Mouth, Paranoid]   \n",
       "4   [Dizzy, Dry Mouth, Paranoid, Dry Eyes]   \n",
       "5   [Dizzy, Dry Mouth, Paranoid, Dry Eyes]   \n",
       "\n",
       "                                              medical  Rating  \\\n",
       "id                                                              \n",
       "1   [Depression, Insomnia, Pain, Stress, Lack of A...     4.2   \n",
       "2   [Depression, Pain, Stress, Lack of Appetite, N...     3.9   \n",
       "3   [Depression, Insomnia, Pain, Stress, Cramps, H...     4.8   \n",
       "4   [Pain, Stress, Headache, Fatigue, Headaches, M...     4.2   \n",
       "5   [Depression, Pain, Stress, Nausea, Headache, H...     4.2   \n",
       "\n",
       "                                          Description  \n",
       "id                                                     \n",
       "1   Afpak, named for its direct Afghani and Pakist...  \n",
       "2   African refers to the indigenous varieties of ...  \n",
       "3   Afternoon Delight, created by Colorado Seed In...  \n",
       "4   Afwreck is a hybrid cross of Afghani and Train...  \n",
       "5   Don’t let the name scare you! The only herbici...  "
      ]
     },
     "execution_count": 181,
     "metadata": {},
     "output_type": "execute_result"
    }
   ],
   "source": [
    "print('Final Merged Dataset Shape: {}'.format(merged.shape))\n",
    "merged.head()"
   ]
  },
  {
   "cell_type": "code",
   "execution_count": 3,
   "metadata": {},
   "outputs": [],
   "source": []
  },
  {
   "cell_type": "code",
   "execution_count": null,
   "metadata": {},
   "outputs": [],
   "source": []
  }
 ],
 "metadata": {
  "kernelspec": {
   "display_name": "Python 3",
   "language": "python",
   "name": "python3"
  },
  "language_info": {
   "codemirror_mode": {
    "name": "ipython",
    "version": 3
   },
   "file_extension": ".py",
   "mimetype": "text/x-python",
   "name": "python",
   "nbconvert_exporter": "python",
   "pygments_lexer": "ipython3",
   "version": "3.7.4"
  }
 },
 "nbformat": 4,
 "nbformat_minor": 4
}
