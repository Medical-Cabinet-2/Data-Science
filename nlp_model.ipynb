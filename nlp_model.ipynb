{
 "cells": [
  {
   "cell_type": "code",
   "execution_count": 1,
   "metadata": {},
   "outputs": [],
   "source": [
    "\n",
    "# Path and File Libraries\n",
    "import os\n",
    "import pickle\n",
    "\n",
    "# Data Transformation Libraries\n",
    "import pandas as pd\n",
    "import numpy as np\n",
    "import spacy\n",
    "import sqlite3\n",
    "\n",
    "from spacy.tokenizer import Tokenizer\n",
    "from sklearn.feature_extraction.text import TfidfVectorizer\n",
    "from sklearn.neighbors import NearestNeighbors\n"
   ]
  },
  {
   "cell_type": "markdown",
   "metadata": {},
   "source": [
    "## load data"
   ]
  },
  {
   "cell_type": "code",
   "execution_count": 2,
   "metadata": {},
   "outputs": [],
   "source": [
    "url='../data/df_merged.csv'\n",
    "df = pd.read_csv(url)"
   ]
  },
  {
   "cell_type": "code",
   "execution_count": null,
   "metadata": {},
   "outputs": [],
   "source": [
    "#sql_conn = sqlite3.connect('db.sqlite3')\n",
    "#sql_curs = sql_conn.cursor()"
   ]
  },
  {
   "cell_type": "code",
   "execution_count": null,
   "metadata": {},
   "outputs": [],
   "source": []
  },
  {
   "cell_type": "code",
   "execution_count": 3,
   "metadata": {},
   "outputs": [
    {
     "data": {
      "text/html": [
       "<div>\n",
       "<style scoped>\n",
       "    .dataframe tbody tr th:only-of-type {\n",
       "        vertical-align: middle;\n",
       "    }\n",
       "\n",
       "    .dataframe tbody tr th {\n",
       "        vertical-align: top;\n",
       "    }\n",
       "\n",
       "    .dataframe thead th {\n",
       "        text-align: right;\n",
       "    }\n",
       "</style>\n",
       "<table border=\"1\" class=\"dataframe\">\n",
       "  <thead>\n",
       "    <tr style=\"text-align: right;\">\n",
       "      <th></th>\n",
       "      <th>Strain</th>\n",
       "      <th>Type</th>\n",
       "      <th>Rating</th>\n",
       "      <th>Description</th>\n",
       "      <th>flavors</th>\n",
       "      <th>positive</th>\n",
       "      <th>negative</th>\n",
       "      <th>medical</th>\n",
       "    </tr>\n",
       "  </thead>\n",
       "  <tbody>\n",
       "    <tr>\n",
       "      <th>0</th>\n",
       "      <td>Afpak</td>\n",
       "      <td>hybrid</td>\n",
       "      <td>4.2</td>\n",
       "      <td>Afpak, named for its direct Afghani and Pakist...</td>\n",
       "      <td>['Earthy', 'Chemical', 'Pine', 'Spicy/Herbal']</td>\n",
       "      <td>['Relaxed', 'Hungry', 'Happy', 'Sleepy', 'Crea...</td>\n",
       "      <td>['Dizzy']</td>\n",
       "      <td>['Depression', 'Insomnia', 'Pain', 'Stress', '...</td>\n",
       "    </tr>\n",
       "    <tr>\n",
       "      <th>1</th>\n",
       "      <td>African</td>\n",
       "      <td>sativa</td>\n",
       "      <td>3.9</td>\n",
       "      <td>African refers to the indigenous varieties of ...</td>\n",
       "      <td>['Spicy/Herbal', 'Pungent', 'Earthy', 'Pepper']</td>\n",
       "      <td>['Euphoric', 'Happy', 'Creative', 'Energetic',...</td>\n",
       "      <td>['Dry Mouth']</td>\n",
       "      <td>['Depression', 'Pain', 'Stress', 'Lack of Appe...</td>\n",
       "    </tr>\n",
       "    <tr>\n",
       "      <th>2</th>\n",
       "      <td>Afternoon Delight</td>\n",
       "      <td>hybrid</td>\n",
       "      <td>4.8</td>\n",
       "      <td>Afternoon Delight, created by Colorado Seed In...</td>\n",
       "      <td>['Pepper', 'Flowery', 'Pine', 'Pungent', 'Citr...</td>\n",
       "      <td>['Relaxed', 'Hungry', 'Euphoric', 'Uplifted', ...</td>\n",
       "      <td>['Dizzy', 'Dry Mouth', 'Paranoid']</td>\n",
       "      <td>['Depression', 'Insomnia', 'Pain', 'Stress', '...</td>\n",
       "    </tr>\n",
       "    <tr>\n",
       "      <th>3</th>\n",
       "      <td>Afwreck</td>\n",
       "      <td>hybrid</td>\n",
       "      <td>4.2</td>\n",
       "      <td>Afwreck is a hybrid cross of Afghani and Train...</td>\n",
       "      <td>['Pine', 'Earthy', 'Flowery', 'Pungent']</td>\n",
       "      <td>['Relaxed', 'Happy', 'Creative', 'Uplifted', '...</td>\n",
       "      <td>['Dizzy', 'Dry Mouth', 'Paranoid', 'Dry Eyes']</td>\n",
       "      <td>['Pain', 'Stress', 'Headache', 'Fatigue', 'Hea...</td>\n",
       "    </tr>\n",
       "    <tr>\n",
       "      <th>4</th>\n",
       "      <td>Agent Orange</td>\n",
       "      <td>hybrid</td>\n",
       "      <td>4.2</td>\n",
       "      <td>Don’t let the name scare you! The only herbici...</td>\n",
       "      <td>['Citrus', 'Orange', 'Sweet', 'Earthy']</td>\n",
       "      <td>['Relaxed', 'Euphoric', 'Happy', 'Energetic', ...</td>\n",
       "      <td>['Dizzy', 'Dry Mouth', 'Paranoid', 'Dry Eyes']</td>\n",
       "      <td>['Depression', 'Pain', 'Stress', 'Nausea', 'He...</td>\n",
       "    </tr>\n",
       "  </tbody>\n",
       "</table>\n",
       "</div>"
      ],
      "text/plain": [
       "              Strain    Type  Rating  \\\n",
       "0              Afpak  hybrid     4.2   \n",
       "1            African  sativa     3.9   \n",
       "2  Afternoon Delight  hybrid     4.8   \n",
       "3            Afwreck  hybrid     4.2   \n",
       "4       Agent Orange  hybrid     4.2   \n",
       "\n",
       "                                         Description  \\\n",
       "0  Afpak, named for its direct Afghani and Pakist...   \n",
       "1  African refers to the indigenous varieties of ...   \n",
       "2  Afternoon Delight, created by Colorado Seed In...   \n",
       "3  Afwreck is a hybrid cross of Afghani and Train...   \n",
       "4  Don’t let the name scare you! The only herbici...   \n",
       "\n",
       "                                             flavors  \\\n",
       "0     ['Earthy', 'Chemical', 'Pine', 'Spicy/Herbal']   \n",
       "1    ['Spicy/Herbal', 'Pungent', 'Earthy', 'Pepper']   \n",
       "2  ['Pepper', 'Flowery', 'Pine', 'Pungent', 'Citr...   \n",
       "3           ['Pine', 'Earthy', 'Flowery', 'Pungent']   \n",
       "4            ['Citrus', 'Orange', 'Sweet', 'Earthy']   \n",
       "\n",
       "                                            positive  \\\n",
       "0  ['Relaxed', 'Hungry', 'Happy', 'Sleepy', 'Crea...   \n",
       "1  ['Euphoric', 'Happy', 'Creative', 'Energetic',...   \n",
       "2  ['Relaxed', 'Hungry', 'Euphoric', 'Uplifted', ...   \n",
       "3  ['Relaxed', 'Happy', 'Creative', 'Uplifted', '...   \n",
       "4  ['Relaxed', 'Euphoric', 'Happy', 'Energetic', ...   \n",
       "\n",
       "                                         negative  \\\n",
       "0                                       ['Dizzy']   \n",
       "1                                   ['Dry Mouth']   \n",
       "2              ['Dizzy', 'Dry Mouth', 'Paranoid']   \n",
       "3  ['Dizzy', 'Dry Mouth', 'Paranoid', 'Dry Eyes']   \n",
       "4  ['Dizzy', 'Dry Mouth', 'Paranoid', 'Dry Eyes']   \n",
       "\n",
       "                                             medical  \n",
       "0  ['Depression', 'Insomnia', 'Pain', 'Stress', '...  \n",
       "1  ['Depression', 'Pain', 'Stress', 'Lack of Appe...  \n",
       "2  ['Depression', 'Insomnia', 'Pain', 'Stress', '...  \n",
       "3  ['Pain', 'Stress', 'Headache', 'Fatigue', 'Hea...  \n",
       "4  ['Depression', 'Pain', 'Stress', 'Nausea', 'He...  "
      ]
     },
     "execution_count": 3,
     "metadata": {},
     "output_type": "execute_result"
    }
   ],
   "source": [
    "df.head()"
   ]
  },
  {
   "cell_type": "code",
   "execution_count": 36,
   "metadata": {},
   "outputs": [],
   "source": [
    "## cleaning up data"
   ]
  },
  {
   "cell_type": "code",
   "execution_count": 4,
   "metadata": {},
   "outputs": [],
   "source": [
    "df['combined_text'] = df.Strain + ' ' + df.Type + ' ' + df.flavors + ' ' + df.Description + ' ' + df.positive + ' ' +    df.negative + ' ' + df.medical\n",
    "# Removing punctuations from our string\n",
    "df[\"combined_text\"] = df['combined_text'].str.replace('[^\\w\\s]',' ')\n",
    "        \n",
    "# Creating an index\n",
    "df.reset_index(level=0, inplace=True)\n",
    "        \n",
    "for desc in df['combined_text']:\n",
    "    if desc == 'None':\n",
    "       desc = np.nan\n",
    "        \n",
    "df = df.dropna()"
   ]
  },
  {
   "cell_type": "code",
   "execution_count": 5,
   "metadata": {},
   "outputs": [
    {
     "data": {
      "text/plain": [
       "(1473, 10)"
      ]
     },
     "execution_count": 5,
     "metadata": {},
     "output_type": "execute_result"
    }
   ],
   "source": [
    "df.shape"
   ]
  },
  {
   "cell_type": "code",
   "execution_count": 6,
   "metadata": {},
   "outputs": [
    {
     "data": {
      "text/plain": [
       "0    Afpak hybrid   Earthy    Chemical    Pine    S...\n",
       "1    African sativa   Spicy Herbal    Pungent    Ea...\n",
       "2    Afternoon Delight hybrid   Pepper    Flowery  ...\n",
       "3    Afwreck hybrid   Pine    Earthy    Flowery    ...\n",
       "4    Agent Orange hybrid   Citrus    Orange    Swee...\n",
       "Name: combined_text, dtype: object"
      ]
     },
     "execution_count": 6,
     "metadata": {},
     "output_type": "execute_result"
    }
   ],
   "source": [
    "df['combined_text'].head()"
   ]
  },
  {
   "cell_type": "markdown",
   "metadata": {},
   "source": [
    "## split data as features and target"
   ]
  },
  {
   "cell_type": "code",
   "execution_count": 7,
   "metadata": {},
   "outputs": [],
   "source": [
    "# We set our features as description, and target as strain.  \n",
    "# Create a mass text.\n",
    "\n",
    "features = ['combined_text'] # expanding the features medical + flavors\n",
    "target = 'Strain'\n",
    "\n",
    "X = df[features]\n",
    "y = df[[target]]"
   ]
  },
  {
   "cell_type": "code",
   "execution_count": 8,
   "metadata": {},
   "outputs": [],
   "source": [
    "#Create the nlp object\n",
    "nlp = spacy.load(\"en_core_web_md\")\n",
    "\n",
    "# create tokenizer object\n",
    "tokenizer = Tokenizer(nlp.vocab)"
   ]
  },
  {
   "cell_type": "code",
   "execution_count": 9,
   "metadata": {},
   "outputs": [],
   "source": [
    "def tokenize(doc):\n",
    "        \"\"\"Return the tokens\"\"\"\n",
    "        return [token.text for token in tokenizer(doc)]"
   ]
  },
  {
   "cell_type": "code",
   "execution_count": 10,
   "metadata": {},
   "outputs": [],
   "source": [
    "def get_lemmas(text):\n",
    "        \"\"\"Return the Lemmas\"\"\"\n",
    "        lemmas = []\n",
    "        doc = nlp(text)\n",
    "    \n",
    "        for token in doc: \n",
    "            if ((token.is_stop == False) and (token.is_punct == False)) and (token.pos_ != 'PRON'):\n",
    "                lemmas.append(token.lemma_)\n",
    "    \n",
    "        return lemmas\n",
    "    "
   ]
  },
  {
   "cell_type": "markdown",
   "metadata": {},
   "source": [
    "## transform and fit"
   ]
  },
  {
   "cell_type": "code",
   "execution_count": 11,
   "metadata": {},
   "outputs": [],
   "source": [
    "text = df[\"combined_text\"]\n",
    "\n",
    "# Instantiate vectorizer object\n",
    "tfidf = TfidfVectorizer(tokenizer=get_lemmas, min_df=0.025, max_df=.98, ngram_range=(1,2))\n",
    "\n",
    "# Create a vocabulary and get word counts per document\n",
    "dtm = tfidf.fit_transform(text) # Similiar to fit_predict\n",
    "\n",
    "# Get feature names to use as dataframe column headers\n",
    "dtm = pd.DataFrame(dtm.todense(), columns=tfidf.get_feature_names())\n"
   ]
  },
  {
   "cell_type": "code",
   "execution_count": 12,
   "metadata": {},
   "outputs": [
    {
     "name": "stdout",
     "output_type": "stream",
     "text": [
      "(1473, 662)\n"
     ]
    },
    {
     "data": {
      "text/html": [
       "<div>\n",
       "<style scoped>\n",
       "    .dataframe tbody tr th:only-of-type {\n",
       "        vertical-align: middle;\n",
       "    }\n",
       "\n",
       "    .dataframe tbody tr th {\n",
       "        vertical-align: top;\n",
       "    }\n",
       "\n",
       "    .dataframe thead th {\n",
       "        text-align: right;\n",
       "    }\n",
       "</style>\n",
       "<table border=\"1\" class=\"dataframe\">\n",
       "  <thead>\n",
       "    <tr style=\"text-align: right;\">\n",
       "      <th></th>\n",
       "      <th></th>\n",
       "      <th></th>\n",
       "      <th></th>\n",
       "      <th>depression</th>\n",
       "      <th>depression</th>\n",
       "      <th>dizzy</th>\n",
       "      <th>dry</th>\n",
       "      <th>insomnia</th>\n",
       "      <th>pain</th>\n",
       "      <th>anxious</th>\n",
       "      <th>...</th>\n",
       "      <th>win</th>\n",
       "      <th>woody</th>\n",
       "      <th>woody</th>\n",
       "      <th>woody</th>\n",
       "      <th>x</th>\n",
       "      <th>yield</th>\n",
       "      <th>yield</th>\n",
       "      <th></th>\n",
       "      <th>euphoric</th>\n",
       "      <th>relaxed</th>\n",
       "    </tr>\n",
       "  </thead>\n",
       "  <tbody>\n",
       "    <tr>\n",
       "      <th>0</th>\n",
       "      <td>0.087507</td>\n",
       "      <td>0.0</td>\n",
       "      <td>0.0</td>\n",
       "      <td>0.0</td>\n",
       "      <td>0.051307</td>\n",
       "      <td>0.067999</td>\n",
       "      <td>0.000000</td>\n",
       "      <td>0.0</td>\n",
       "      <td>0.000000</td>\n",
       "      <td>0.0</td>\n",
       "      <td>...</td>\n",
       "      <td>0.0</td>\n",
       "      <td>0.0</td>\n",
       "      <td>0.0</td>\n",
       "      <td>0.0</td>\n",
       "      <td>0.0</td>\n",
       "      <td>0.0</td>\n",
       "      <td>0.0</td>\n",
       "      <td>0.00000</td>\n",
       "      <td>0.0</td>\n",
       "      <td>0.000000</td>\n",
       "    </tr>\n",
       "    <tr>\n",
       "      <th>1</th>\n",
       "      <td>0.151828</td>\n",
       "      <td>0.0</td>\n",
       "      <td>0.0</td>\n",
       "      <td>0.0</td>\n",
       "      <td>0.059346</td>\n",
       "      <td>0.000000</td>\n",
       "      <td>0.084848</td>\n",
       "      <td>0.0</td>\n",
       "      <td>0.000000</td>\n",
       "      <td>0.0</td>\n",
       "      <td>...</td>\n",
       "      <td>0.0</td>\n",
       "      <td>0.0</td>\n",
       "      <td>0.0</td>\n",
       "      <td>0.0</td>\n",
       "      <td>0.0</td>\n",
       "      <td>0.0</td>\n",
       "      <td>0.0</td>\n",
       "      <td>0.00000</td>\n",
       "      <td>0.0</td>\n",
       "      <td>0.000000</td>\n",
       "    </tr>\n",
       "    <tr>\n",
       "      <th>2</th>\n",
       "      <td>0.091030</td>\n",
       "      <td>0.0</td>\n",
       "      <td>0.0</td>\n",
       "      <td>0.0</td>\n",
       "      <td>0.053373</td>\n",
       "      <td>0.070737</td>\n",
       "      <td>0.000000</td>\n",
       "      <td>0.0</td>\n",
       "      <td>0.000000</td>\n",
       "      <td>0.0</td>\n",
       "      <td>...</td>\n",
       "      <td>0.0</td>\n",
       "      <td>0.0</td>\n",
       "      <td>0.0</td>\n",
       "      <td>0.0</td>\n",
       "      <td>0.0</td>\n",
       "      <td>0.0</td>\n",
       "      <td>0.0</td>\n",
       "      <td>0.10122</td>\n",
       "      <td>0.0</td>\n",
       "      <td>0.112527</td>\n",
       "    </tr>\n",
       "    <tr>\n",
       "      <th>3</th>\n",
       "      <td>0.113814</td>\n",
       "      <td>0.0</td>\n",
       "      <td>0.0</td>\n",
       "      <td>0.0</td>\n",
       "      <td>0.000000</td>\n",
       "      <td>0.088442</td>\n",
       "      <td>0.000000</td>\n",
       "      <td>0.0</td>\n",
       "      <td>0.193866</td>\n",
       "      <td>0.0</td>\n",
       "      <td>...</td>\n",
       "      <td>0.0</td>\n",
       "      <td>0.0</td>\n",
       "      <td>0.0</td>\n",
       "      <td>0.0</td>\n",
       "      <td>0.0</td>\n",
       "      <td>0.0</td>\n",
       "      <td>0.0</td>\n",
       "      <td>0.00000</td>\n",
       "      <td>0.0</td>\n",
       "      <td>0.000000</td>\n",
       "    </tr>\n",
       "    <tr>\n",
       "      <th>4</th>\n",
       "      <td>0.076108</td>\n",
       "      <td>0.0</td>\n",
       "      <td>0.0</td>\n",
       "      <td>0.0</td>\n",
       "      <td>0.044624</td>\n",
       "      <td>0.059142</td>\n",
       "      <td>0.000000</td>\n",
       "      <td>0.0</td>\n",
       "      <td>0.000000</td>\n",
       "      <td>0.0</td>\n",
       "      <td>...</td>\n",
       "      <td>0.0</td>\n",
       "      <td>0.0</td>\n",
       "      <td>0.0</td>\n",
       "      <td>0.0</td>\n",
       "      <td>0.0</td>\n",
       "      <td>0.0</td>\n",
       "      <td>0.0</td>\n",
       "      <td>0.00000</td>\n",
       "      <td>0.0</td>\n",
       "      <td>0.000000</td>\n",
       "    </tr>\n",
       "  </tbody>\n",
       "</table>\n",
       "<p>5 rows × 662 columns</p>\n",
       "</div>"
      ],
      "text/plain": [
       "                                     depression       depression       dizzy  \\\n",
       "0  0.087507    0.0      0.0                 0.0         0.051307    0.067999   \n",
       "1  0.151828    0.0      0.0                 0.0         0.059346    0.000000   \n",
       "2  0.091030    0.0      0.0                 0.0         0.053373    0.070737   \n",
       "3  0.113814    0.0      0.0                 0.0         0.000000    0.088442   \n",
       "4  0.076108    0.0      0.0                 0.0         0.044624    0.059142   \n",
       "\n",
       "        dry       insomnia       pain      anxious  ...  win  woody  woody     \\\n",
       "0  0.000000            0.0   0.000000          0.0  ...  0.0    0.0       0.0   \n",
       "1  0.084848            0.0   0.000000          0.0  ...  0.0    0.0       0.0   \n",
       "2  0.000000            0.0   0.000000          0.0  ...  0.0    0.0       0.0   \n",
       "3  0.000000            0.0   0.193866          0.0  ...  0.0    0.0       0.0   \n",
       "4  0.000000            0.0   0.000000          0.0  ...  0.0    0.0       0.0   \n",
       "\n",
       "   woody        x  yield  yield                  euphoric       relaxed  \n",
       "0        0.0  0.0    0.0      0.0  0.00000            0.0      0.000000  \n",
       "1        0.0  0.0    0.0      0.0  0.00000            0.0      0.000000  \n",
       "2        0.0  0.0    0.0      0.0  0.10122            0.0      0.112527  \n",
       "3        0.0  0.0    0.0      0.0  0.00000            0.0      0.000000  \n",
       "4        0.0  0.0    0.0      0.0  0.00000            0.0      0.000000  \n",
       "\n",
       "[5 rows x 662 columns]"
      ]
     },
     "execution_count": 12,
     "metadata": {},
     "output_type": "execute_result"
    }
   ],
   "source": [
    "# View Feature Matrix as DataFrame\n",
    "print(dtm.shape)\n",
    "dtm.head()"
   ]
  },
  {
   "cell_type": "code",
   "execution_count": 13,
   "metadata": {},
   "outputs": [
    {
     "data": {
      "text/plain": [
       "NearestNeighbors(algorithm='ball_tree', leaf_size=30, metric='minkowski',\n",
       "         metric_params=None, n_jobs=None, n_neighbors=5, p=2, radius=1.0)"
      ]
     },
     "execution_count": 13,
     "metadata": {},
     "output_type": "execute_result"
    }
   ],
   "source": [
    "# Fit on TF-IDF Vectors\n",
    "size = 5\n",
    "nn  = NearestNeighbors(n_neighbors=size, algorithm='ball_tree')\n",
    "nn.fit(dtm)"
   ]
  },
  {
   "cell_type": "code",
   "execution_count": 19,
   "metadata": {},
   "outputs": [],
   "source": [
    "user_input = [\"\"\"I have insominia and need something to help me fall asleep\"\"\"]\n",
    "\n",
    "vec_user_input = tfidf.transform(user_input)\n",
    "dist, strain_index = nn.kneighbors(vec_user_input.todense())"
   ]
  },
  {
   "cell_type": "code",
   "execution_count": 20,
   "metadata": {},
   "outputs": [
    {
     "name": "stdout",
     "output_type": "stream",
     "text": [
      "[[ 867  146  997  642 1217]]\n"
     ]
    }
   ],
   "source": [
    "print(strain_index)"
   ]
  },
  {
   "cell_type": "code",
   "execution_count": 55,
   "metadata": {},
   "outputs": [
    {
     "name": "stdout",
     "output_type": "stream",
     "text": [
      "[                      Strain    Type  \\\n",
      "876               Madagascar  indica   \n",
      "147          Blissful Wizard  hybrid   \n",
      "1010  Pakistani Chitral Kush  indica   \n",
      "649                    Haoma  indica   \n",
      "1236              Skunk Dawg  sativa   \n",
      "\n",
      "                                                flavors  \\\n",
      "876                        ['Earthy', 'Skunk', 'Sweet']   \n",
      "147           ['Sweet', 'Vanilla', 'Earthy', 'Pungent']   \n",
      "1010                       ['Earthy', 'Sweet', 'Berry']   \n",
      "649                     ['Citrus', 'Earthy', 'Flowery']   \n",
      "1236  ['Skunk', 'Diesel', 'Sweet', 'Pungent', 'Earthy']   \n",
      "\n",
      "                                                medical  \n",
      "876   ['Insomnia', 'Pain', 'Stress', 'Headaches', 'M...  \n",
      "147   ['Depression', 'Insomnia', 'Pain', 'Stress', '...  \n",
      "1010  ['Insomnia', 'Pain', 'Stress', 'Lack of Appeti...  \n",
      "649   ['Depression', 'Insomnia', 'Stress', 'Headache...  \n",
      "1236  ['Pain', 'Stress', 'Nausea', 'Headaches', 'Inf...  ]\n"
     ]
    }
   ],
   "source": [
    "#recommended_strains = [df[['Strain','Type','flavors','medical']].iloc[n] for n in strain_index]\n",
    "\n",
    "#print(recommended_strains)  "
   ]
  },
  {
   "cell_type": "code",
   "execution_count": 21,
   "metadata": {},
   "outputs": [
    {
     "data": {
      "text/plain": [
       "Strain                                            Madagascar\n",
       "Type                                                  indica\n",
       "flavors                         ['Earthy', 'Skunk', 'Sweet']\n",
       "medical    ['Insomnia', 'Pain', 'Stress', 'Headaches', 'M...\n",
       "Name: 876, dtype: object"
      ]
     },
     "execution_count": 21,
     "metadata": {},
     "output_type": "execute_result"
    }
   ],
   "source": [
    "df[['Strain','Type','flavors','medical']].iloc[867]"
   ]
  },
  {
   "cell_type": "markdown",
   "metadata": {},
   "source": [
    "## create a pickle"
   ]
  },
  {
   "cell_type": "code",
   "execution_count": 37,
   "metadata": {},
   "outputs": [],
   "source": [
    "# Export Pickle File\n",
    "filename = 'nn_1.pkl'\n",
    "pickle.dump(nn, open(filename, 'wb'))"
   ]
  },
  {
   "cell_type": "code",
   "execution_count": 40,
   "metadata": {},
   "outputs": [],
   "source": [
    "# Export Pickle File\n",
    "filename = 'tfidf_1.pkl'\n",
    "pickle.dump(tfidf, open(filename, 'wb'))"
   ]
  },
  {
   "cell_type": "code",
   "execution_count": 22,
   "metadata": {},
   "outputs": [],
   "source": [
    "nn_pkl = pickle.load(open(\"nn_1.pkl\", \"rb\"))\n",
    "tfidf_pkl = pickle.load(open(\"tfidf_1.pkl\", \"rb\"))"
   ]
  },
  {
   "cell_type": "code",
   "execution_count": 25,
   "metadata": {},
   "outputs": [],
   "source": [
    "user_input = [\"I have insominia and need something to help me fall asleep\"]\n",
    "size = 7\n",
    "vec_user_input = tfidf_pkl.transform(user_input)\n",
    "dist, strain_index = nn_pkl.kneighbors(vec_user_input.todense(),n_neighbors=size)\n"
   ]
  },
  {
   "cell_type": "code",
   "execution_count": 26,
   "metadata": {},
   "outputs": [
    {
     "name": "stdout",
     "output_type": "stream",
     "text": [
      "[[ 867  146  997  642 1217  365 1085]]\n"
     ]
    }
   ],
   "source": [
    "print(strain_index)"
   ]
  },
  {
   "cell_type": "code",
   "execution_count": 27,
   "metadata": {},
   "outputs": [],
   "source": [
    "## example 2\n",
    "types = \"sativa\"\n",
    "flavor=\"citrus\"\n",
    "effects=\"nausea\"\n",
    "description = \"weed for nausea, great flavor with a hint of citrus\"\n",
    "size = 3\n",
    "text = types + \" \" + flavor + \" \" + description + \" \" + effects"
   ]
  },
  {
   "cell_type": "code",
   "execution_count": 32,
   "metadata": {},
   "outputs": [],
   "source": [
    "# from actual\n",
    "user_input =[text]\n",
    "vec_user_input = tfidf.transform(user_input)\n",
    "dist, strain_index = nn.kneighbors(vec_user_input.todense(),n_neighbors=size)"
   ]
  },
  {
   "cell_type": "code",
   "execution_count": 33,
   "metadata": {},
   "outputs": [
    {
     "name": "stdout",
     "output_type": "stream",
     "text": [
      "[[1333 1260  898]]\n"
     ]
    }
   ],
   "source": [
    "print(strain_index)"
   ]
  },
  {
   "cell_type": "code",
   "execution_count": 28,
   "metadata": {},
   "outputs": [],
   "source": [
    "# from the pickle\n",
    "\n",
    "user_input =[text]\n",
    "vec_user_input = tfidf_pkl.transform(user_input)\n",
    "dist, strain_index = nn_pkl.kneighbors(vec_user_input.todense(),n_neighbors=size)"
   ]
  },
  {
   "cell_type": "code",
   "execution_count": 29,
   "metadata": {},
   "outputs": [
    {
     "name": "stdout",
     "output_type": "stream",
     "text": [
      "[[1333 1260  898]]\n"
     ]
    }
   ],
   "source": [
    "print(strain_index)"
   ]
  },
  {
   "cell_type": "markdown",
   "metadata": {},
   "source": [
    "## Visualisations"
   ]
  },
  {
   "cell_type": "code",
   "execution_count": 34,
   "metadata": {},
   "outputs": [],
   "source": [
    "from collections import Counter\n",
    "# Plotting\n",
    "import squarify\n",
    "import matplotlib.pyplot as plt"
   ]
  },
  {
   "cell_type": "code",
   "execution_count": 35,
   "metadata": {},
   "outputs": [],
   "source": [
    "def count(docs):\n",
    "\n",
    "        word_counts = Counter()\n",
    "        appears_in = Counter()\n",
    "        \n",
    "        total_docs = len(docs)\n",
    "\n",
    "        for doc in docs:\n",
    "            word_counts.update(doc)\n",
    "            appears_in.update(set(doc))\n",
    "\n",
    "        temp = zip(word_counts.keys(), word_counts.values())\n",
    "        \n",
    "        wc = pd.DataFrame(temp, columns = ['word', 'count'])\n",
    "\n",
    "        wc['rank'] = wc['count'].rank(method='first', ascending=False)\n",
    "        total = wc['count'].sum()\n",
    "\n",
    "        wc['pct_total'] = wc['count'].apply(lambda x: x / total)\n",
    "        \n",
    "        wc = wc.sort_values(by='rank')\n",
    "        wc['cul_pct_total'] = wc['pct_total'].cumsum()\n",
    "\n",
    "        t2 = zip(appears_in.keys(), appears_in.values())\n",
    "        ac = pd.DataFrame(t2, columns=['word', 'appears_in'])\n",
    "        wc = ac.merge(wc, on='word')\n",
    "\n",
    "        wc['appears_in_pct'] = wc['appears_in'].apply(lambda x: x / total_docs)\n",
    "        \n",
    "        return wc.sort_values(by='rank')"
   ]
  },
  {
   "cell_type": "code",
   "execution_count": null,
   "metadata": {},
   "outputs": [],
   "source": []
  },
  {
   "cell_type": "code",
   "execution_count": 39,
   "metadata": {},
   "outputs": [
    {
     "data": {
      "text/plain": [
       "array(['hybrid', 'sativa', 'indica'], dtype=object)"
      ]
     },
     "execution_count": 39,
     "metadata": {},
     "output_type": "execute_result"
    }
   ],
   "source": [
    "df['Type'].unique()"
   ]
  },
  {
   "cell_type": "code",
   "execution_count": 46,
   "metadata": {},
   "outputs": [],
   "source": [
    "df_hybrid = df[df['Type'] == 'hybrid']\n",
    "df_sativa = df[df['Type'] == 'sativa']\n",
    "df_indica = df[df['Type'] == 'indica']\n",
    "\n"
   ]
  },
  {
   "cell_type": "code",
   "execution_count": 47,
   "metadata": {},
   "outputs": [
    {
     "data": {
      "text/plain": [
       "((753, 11), (304, 11), (416, 11))"
      ]
     },
     "execution_count": 47,
     "metadata": {},
     "output_type": "execute_result"
    }
   ],
   "source": [
    "df_hybrid.shape, df_sativa.shape, df_indica.shape"
   ]
  },
  {
   "cell_type": "code",
   "execution_count": 56,
   "metadata": {},
   "outputs": [
    {
     "name": "stderr",
     "output_type": "stream",
     "text": [
      "//anaconda3/lib/python3.7/site-packages/ipykernel_launcher.py:1: SettingWithCopyWarning: \n",
      "A value is trying to be set on a copy of a slice from a DataFrame.\n",
      "Try using .loc[row_indexer,col_indexer] = value instead\n",
      "\n",
      "See the caveats in the documentation: http://pandas.pydata.org/pandas-docs/stable/indexing.html#indexing-view-versus-copy\n",
      "  \"\"\"Entry point for launching an IPython kernel.\n",
      "//anaconda3/lib/python3.7/site-packages/ipykernel_launcher.py:2: SettingWithCopyWarning: \n",
      "A value is trying to be set on a copy of a slice from a DataFrame.\n",
      "Try using .loc[row_indexer,col_indexer] = value instead\n",
      "\n",
      "See the caveats in the documentation: http://pandas.pydata.org/pandas-docs/stable/indexing.html#indexing-view-versus-copy\n",
      "  \n",
      "//anaconda3/lib/python3.7/site-packages/ipykernel_launcher.py:3: SettingWithCopyWarning: \n",
      "A value is trying to be set on a copy of a slice from a DataFrame.\n",
      "Try using .loc[row_indexer,col_indexer] = value instead\n",
      "\n",
      "See the caveats in the documentation: http://pandas.pydata.org/pandas-docs/stable/indexing.html#indexing-view-versus-copy\n",
      "  This is separate from the ipykernel package so we can avoid doing imports until\n"
     ]
    }
   ],
   "source": [
    "df_hybrid['lemmas'] = df_hybrid['Description'].apply(get_lemmas)\n",
    "df_sativa['lemmas'] = df_sativa['Description'].apply(get_lemmas)\n",
    "df_indica['lemmas'] = df_indica['Description'].apply(get_lemmas)"
   ]
  },
  {
   "cell_type": "code",
   "execution_count": 57,
   "metadata": {},
   "outputs": [
    {
     "data": {
      "image/png": "[encoded data removed]",
      "text/plain": [
       "<Figure size 432x288 with 1 Axes>"
      ]
     },
     "metadata": {
      "needs_background": "light"
     },
     "output_type": "display_data"
    }
   ],
   "source": [
    "# for hybrid\n",
    "wc = count(df_hybrid['lemmas'])\n",
    "wc_top20 = wc[wc['rank'] <= 20]\n",
    "\n",
    "squarify.plot(sizes=wc_top20['pct_total'], label=wc_top20['word'], alpha=.8 )\n",
    "plt.axis('off')\n",
    "plt.show()"
   ]
  },
  {
   "cell_type": "code",
   "execution_count": 58,
   "metadata": {},
   "outputs": [
    {
     "data": {
      "image/png": "[encoded data removed]",
      "text/plain": [
       "<Figure size 432x288 with 1 Axes>"
      ]
     },
     "metadata": {
      "needs_background": "light"
     },
     "output_type": "display_data"
    }
   ],
   "source": [
    "# for sativa\n",
    "wc = count(df_sativa['lemmas'])\n",
    "wc_top20 = wc[wc['rank'] <= 20]\n",
    "\n",
    "squarify.plot(sizes=wc_top20['pct_total'], label=wc_top20['word'], alpha=.8 )\n",
    "plt.axis('off')\n",
    "plt.show()"
   ]
  },
  {
   "cell_type": "code",
   "execution_count": 51,
   "metadata": {},
   "outputs": [
    {
     "data": {
      "image/png": "[encoded data removed]",
      "text/plain": [
       "<Figure size 432x288 with 1 Axes>"
      ]
     },
     "metadata": {
      "needs_background": "light"
     },
     "output_type": "display_data"
    }
   ],
   "source": [
    "# for indica\n",
    "wc = count(df_indica['lemmas'])\n",
    "wc_top20 = wc[wc['rank'] <= 20]\n",
    "\n",
    "squarify.plot(sizes=wc_top20['pct_total'], label=wc_top20['word'], alpha=.8 )\n",
    "plt.axis('off')\n",
    "plt.show()"
   ]
  },
  {
   "cell_type": "code",
   "execution_count": null,
   "metadata": {},
   "outputs": [],
   "source": []
  }
 ],
 "metadata": {
  "kernelspec": {
   "display_name": "Python 3",
   "language": "python",
   "name": "python3"
  },
  "language_info": {
   "codemirror_mode": {
    "name": "ipython",
    "version": 3
   },
   "file_extension": ".py",
   "mimetype": "text/x-python",
   "name": "python",
   "nbconvert_exporter": "python",
   "pygments_lexer": "ipython3",
   "version": "3.7.3"
  }
 },
 "nbformat": 4,
 "nbformat_minor": 4
}
