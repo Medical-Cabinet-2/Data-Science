{
 "cells": [
  {
   "cell_type": "code",
   "execution_count": 2,
   "metadata": {},
   "outputs": [],
   "source": [
    "import os\n",
    "import requests\n",
    "import json"
   ]
  },
  {
   "cell_type": "code",
   "execution_count": 3,
   "metadata": {},
   "outputs": [
    {
     "data": {
      "text/plain": [
       "<Response [200]>"
      ]
     },
     "execution_count": 3,
     "metadata": {},
     "output_type": "execute_result"
    }
   ],
   "source": [
    "url = 'https://projmedcab2-01-10-2020.herokuapp.com/refresh'\n",
    "r = requests.request('GET', url)\n",
    "r"
   ]
  },
  {
   "cell_type": "code",
   "execution_count": 4,
   "metadata": {},
   "outputs": [],
   "source": [
    "data = {\n",
    "    'type':'sativa',\n",
    "    'flavor':'Lettuce',\n",
    "    'effects':'Tall',\n",
    "    'desc':'Something a little Giraffer than most',\n",
    "    'size':1\n",
    "}"
   ]
  },
  {
   "cell_type": "code",
   "execution_count": 10,
   "metadata": {},
   "outputs": [],
   "source": [
    "data = {\n",
    "    'type':'indica',\n",
    "    'flavor':'Earth',\n",
    "    'effects':'Happy, Pain',\n",
    "    'desc':'Earthly Pain Weed',\n",
    "    'size':2\n",
    "}"
   ]
  },
  {
   "cell_type": "code",
   "execution_count": 11,
   "metadata": {},
   "outputs": [
    {
     "data": {
      "text/plain": [
       "<Response [200]>"
      ]
     },
     "execution_count": 11,
     "metadata": {},
     "output_type": "execute_result"
    }
   ],
   "source": [
    "url = 'https://projmedcab2-01-10-2020.herokuapp.com/search'\n",
    "r = requests.request('GET', url, params=data)\n",
    "r"
   ]
  },
  {
   "cell_type": "code",
   "execution_count": 12,
   "metadata": {
    "scrolled": true
   },
   "outputs": [
    {
     "data": {
      "text/plain": [
       "{'0': {'data': {'desc': 'G-13 Labs created Raw Diesel by crossing NYC\\xa0Diesel with G13 Haze. Huge flowers coated in resin and that unmistakable sour, lemon-diesel aroma make this a popular strain with connoisseurs and cash-croppers alike. Some phenotypes will have more of a spicy Haze flavor and taller stature, while the best ones are shorter with fatter buds and a lip-smacking sour-fuel flavor. Raw Diesel can be counted on to produce copious amounts of THC.',\n",
       "   'flavor': \"['Diesel', 'Earthy', 'Citrus']\",\n",
       "   'id': 1151,\n",
       "   'medical': \"['Depression', 'Pain', 'Stress', 'Nausea', 'Headaches']\",\n",
       "   'name': 'Raw Diesel',\n",
       "   'negative': \"['Dry Mouth']\",\n",
       "   'positive': \"['Relaxed', 'Hungry', 'Uplifted', 'Sleepy', 'Happy']\",\n",
       "   'rate': 3.1,\n",
       "   'type': 'hybrid'},\n",
       "  'id': '1151'},\n",
       " '1': {'data': {'desc': 'Headbanger, a winner of the 2013 Amsterdam Cannabis Cup, is a sativa dominant hybrid cross between Sour Diesel and Biker Kush. This strain inherits a dense, conic bud structure from its Kush forefathers, as well as the sour aroma and head-focused effects of its Sour Diesel mother plant. Bred by Karma Genetics, Headbanger’s 10 to 12 week flowering period requires patience but promises high yields. Its uplifting and euphoric qualities make Headbanger a potent medicine for mood disorders, particularly depression.',\n",
       "   'flavor': \"['Diesel', 'Skunk', 'Sweet', 'Citrus']\",\n",
       "   'id': 681,\n",
       "   'medical': \"['Depression', 'Pain', 'Stress', 'Lack of Appetite', 'Headache', 'Headaches']\",\n",
       "   'name': 'Headbanger',\n",
       "   'negative': \"['Dizzy', 'Dry Mouth', 'Dry Eyes']\",\n",
       "   'positive': \"['Relaxed', 'Sleepy', 'Giggly', 'Happy', 'Uplifted', 'Euphoric', 'Hungry']\",\n",
       "   'rate': 4.4,\n",
       "   'type': 'hybrid'},\n",
       "  'id': '681'}}"
      ]
     },
     "execution_count": 12,
     "metadata": {},
     "output_type": "execute_result"
    }
   ],
   "source": [
    "r.json()"
   ]
  },
  {
   "cell_type": "code",
   "execution_count": 7,
   "metadata": {},
   "outputs": [
    {
     "name": "stdout",
     "output_type": "stream",
     "text": [
      "\n",
      "    https://projmedcab2-01-10-2020.herokuapp.com/search?type=sativa&flavor=cherry&effects=death&desc=A+Very+Dangerous+Strain&size=2\n",
      "\n"
     ]
    }
   ],
   "source": [
    "url=\"\"\"\n",
    "    https://projmedcab2-01-10-2020.herokuapp.com/search?type=sativa&flavor=cherry&effects=death&desc=A+Very+Dangerous+Strain&size=2\n",
    "\"\"\"\n",
    "print(url)\n",
    "r = requests.request('GET', url)"
   ]
  },
  {
   "cell_type": "code",
   "execution_count": 8,
   "metadata": {},
   "outputs": [
    {
     "data": {
      "text/plain": [
       "<Response [200]>"
      ]
     },
     "execution_count": 8,
     "metadata": {},
     "output_type": "execute_result"
    }
   ],
   "source": [
    "r"
   ]
  },
  {
   "cell_type": "code",
   "execution_count": 9,
   "metadata": {
    "scrolled": true
   },
   "outputs": [
    {
     "data": {
      "text/plain": [
       "{'0': {'data': {'desc': 'Deadwood is potent indica cross between Bubba Kush and Sweet Pink Grapefruit. These robust indica strains come together to create good medicine for those suffering from insomnia, anxiety, and chronic pain. The aroma is sweet and skunky with spicy notes on the finish. Use Deadwood in the evening, as its effects will ground all future plans. Expect heavy sedation, weight on the eyelids and muscles, and a stone-solid buzz. \\xa0\\xa0',\n",
       "   'flavor': \"['Berry', 'Earthy', 'Lavender']\",\n",
       "   'id': 425,\n",
       "   'medical': \"['Pain', 'Stress', 'Muscle Spasms']\",\n",
       "   'name': 'Deadwood',\n",
       "   'negative': \"['Dry Mouth']\",\n",
       "   'positive': \"['Relaxed', 'Creative', 'Sleepy', 'Focused', 'Happy', 'Talkative', 'Uplifted', 'Giggly']\",\n",
       "   'rate': 3.9,\n",
       "   'type': 'indica'},\n",
       "  'id': '425'},\n",
       " '1': {'data': {'desc': 'Pineapple Jack is a mostly sativa cannabis strain whose Jack Herer and Pineapple genetics collide, combining their soaring, blissful effects in unison. Tropical fruit and citrus flavors meet the earthy, piney taste of Jack Herer in an unusual pairing of island and tundra aromas. Weightless euphoria lifts the spirits, helping you keep your chin held high amidst stress and depression while still leaving you feeling active and productive.',\n",
       "   'flavor': \"['Pineapple', 'Sweet', 'Pine', 'Tropical']\",\n",
       "   'id': 1034,\n",
       "   'medical': \"['Depression', 'Stress', 'Fatigue', 'Headaches', 'Eye Pressure']\",\n",
       "   'name': 'Pineapple Jack',\n",
       "   'negative': \"['Dizzy', 'Dry Mouth', 'Paranoid', 'Dry Eyes', 'Anxious']\",\n",
       "   'positive': \"['Euphoric', 'Happy', 'Energetic', 'Uplifted', 'Focused', 'Talkative', 'Tingly', 'Giggly']\",\n",
       "   'rate': 4.4,\n",
       "   'type': 'sativa'},\n",
       "  'id': '1034'}}"
      ]
     },
     "execution_count": 9,
     "metadata": {},
     "output_type": "execute_result"
    }
   ],
   "source": [
    "r.json()"
   ]
  },
  {
   "cell_type": "code",
   "execution_count": null,
   "metadata": {},
   "outputs": [],
   "source": []
  }
 ],
 "metadata": {
  "kernelspec": {
   "display_name": "Python 3",
   "language": "python",
   "name": "python3"
  },
  "language_info": {
   "codemirror_mode": {
    "name": "ipython",
    "version": 3
   },
   "file_extension": ".py",
   "mimetype": "text/x-python",
   "name": "python",
   "nbconvert_exporter": "python",
   "pygments_lexer": "ipython3",
   "version": "3.6.7"
  }
 },
 "nbformat": 4,
 "nbformat_minor": 4
}
