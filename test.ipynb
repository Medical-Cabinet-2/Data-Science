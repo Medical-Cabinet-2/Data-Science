{
 "cells": [
  {
   "cell_type": "code",
   "execution_count": null,
   "metadata": {},
   "outputs": [],
   "source": [
    "\n",
    "types = \"sativa\"\n",
    "flavor=\"citrus\"\n",
    "effects=\"nausea\"\n",
    "description = \"weed for nausea, great flavor with a hint of citrus\"\n",
    "size = 3\n",
    "text = types + \" \" + flavor + \" \" + description + \" \" + effects\n"
   ]
  },
  {
   "cell_type": "code",
   "execution_count": null,
   "metadata": {},
   "outputs": [],
   "source": [
    "from StrainAPI.nlp_model import Predictor\n",
    "t = Predictor()"
   ]
  },
  {
   "cell_type": "code",
   "execution_count": null,
   "metadata": {},
   "outputs": [],
   "source": [
    "#user_input_text = \"citrus\"\n",
    "num_responses = 5\n",
    "prediction_indices = t.predict('Glorious orange-red sativa', size=num_responses)"
   ]
  },
  {
   "cell_type": "code",
   "execution_count": 3,
   "metadata": {},
   "outputs": [],
   "source": [
    "import os\n",
    "import requests\n",
    "import json"
   ]
  },
  {
   "cell_type": "code",
   "execution_count": 110,
   "metadata": {},
   "outputs": [
    {
     "data": {
      "text/plain": [
       "<Response [200]>"
      ]
     },
     "execution_count": 110,
     "metadata": {},
     "output_type": "execute_result"
    }
   ],
   "source": [
    "url = 'https://projmedcab2-01-10-2020.herokuapp.com/refresh'\n",
    "r = requests.request('GET', url)\n",
    "r"
   ]
  },
  {
   "cell_type": "code",
   "execution_count": 111,
   "metadata": {},
   "outputs": [],
   "source": [
    "url = 'https://projmedcab2-01-10-2020.herokuapp.com/search'\n",
    "data = {\n",
    "    'type':'sativa',\n",
    "    'flavor':'cherry',\n",
    "    'effects':'death',\n",
    "    'desc':'A very dangerous strain',\n",
    "    'size':3\n",
    "}\n",
    "payload = json.dumps(data)"
   ]
  },
  {
   "cell_type": "code",
   "execution_count": 112,
   "metadata": {},
   "outputs": [],
   "source": [
    "r = requests.request('GET', url, params=data)"
   ]
  },
  {
   "cell_type": "code",
   "execution_count": 113,
   "metadata": {},
   "outputs": [
    {
     "data": {
      "text/plain": [
       "<Response [200]>"
      ]
     },
     "execution_count": 113,
     "metadata": {},
     "output_type": "execute_result"
    }
   ],
   "source": [
    "r"
   ]
  },
  {
   "cell_type": "code",
   "execution_count": 114,
   "metadata": {},
   "outputs": [
    {
     "data": {
      "text/plain": [
       "{'0': {'data': {'desc': 'Deadwood is potent indica cross between Bubba Kush and Sweet Pink Grapefruit. These robust indica strains come together to create good medicine for those suffering from insomnia, anxiety, and chronic pain. The aroma is sweet and skunky with spicy notes on the finish. Use Deadwood in the evening, as its effects will ground all future plans. Expect heavy sedation, weight on the eyelids and muscles, and a stone-solid buzz. \\xa0\\xa0',\n",
       "   'flavor': \"['Berry', 'Earthy', 'Lavender']\",\n",
       "   'id': 425,\n",
       "   'medical': \"['Pain', 'Stress', 'Muscle Spasms']\",\n",
       "   'name': 'Deadwood',\n",
       "   'negative': \"['Dry Mouth']\",\n",
       "   'positive': \"['Relaxed', 'Creative', 'Sleepy', 'Focused', 'Happy', 'Talkative', 'Uplifted', 'Giggly']\",\n",
       "   'rate': 3.9,\n",
       "   'type': 'indica'},\n",
       "  'id': '425'},\n",
       " '1': {'data': {'desc': 'Pineapple Jack is a mostly sativa cannabis strain whose Jack Herer and Pineapple genetics collide, combining their soaring, blissful effects in unison. Tropical fruit and citrus flavors meet the earthy, piney taste of Jack Herer in an unusual pairing of island and tundra aromas. Weightless euphoria lifts the spirits, helping you keep your chin held high amidst stress and depression while still leaving you feeling active and productive.',\n",
       "   'flavor': \"['Pineapple', 'Sweet', 'Pine', 'Tropical']\",\n",
       "   'id': 1034,\n",
       "   'medical': \"['Depression', 'Stress', 'Fatigue', 'Headaches', 'Eye Pressure']\",\n",
       "   'name': 'Pineapple Jack',\n",
       "   'negative': \"['Dizzy', 'Dry Mouth', 'Paranoid', 'Dry Eyes', 'Anxious']\",\n",
       "   'positive': \"['Euphoric', 'Happy', 'Energetic', 'Uplifted', 'Focused', 'Talkative', 'Tingly', 'Giggly']\",\n",
       "   'rate': 4.4,\n",
       "   'type': 'sativa'},\n",
       "  'id': '1034'},\n",
       " '2': {'data': {'desc': 'Cherry Cream Pie is the decadent indica-dominant hybrid offspring of Cherry Pie and Cookies and\\xa0Cream. With pronounced OG undertones and hints of tartness and pine, Cherry Cream Pie’s terpene profile is half the experience. The strain’s calming effects permeate both mind and body, offering consumers carefree, mid-level sedation. Enjoy Cherry Cream Pie later in the day as couch-lock and appetite stimulation are two common side effects after consumption. This delicious strain will mellow aggravated muscles as well as minor aches and pains.\\xa0',\n",
       "   'flavor': \"['Pungent', 'Sweet', 'Citrus', 'Chemical']\",\n",
       "   'id': 318,\n",
       "   'medical': \"['Depression', 'Lack of Appetite']\",\n",
       "   'name': 'Cherry Cream Pie',\n",
       "   'negative': '[]',\n",
       "   'positive': \"['Relaxed', 'Hungry', 'Euphoric', 'Happy', 'Uplifted', 'Creative', 'Energetic']\",\n",
       "   'rate': 4.3,\n",
       "   'type': 'hybrid'},\n",
       "  'id': '318'}}"
      ]
     },
     "execution_count": 114,
     "metadata": {},
     "output_type": "execute_result"
    }
   ],
   "source": [
    "r.json()"
   ]
  },
  {
   "cell_type": "code",
   "execution_count": null,
   "metadata": {},
   "outputs": [],
   "source": []
  }
 ],
 "metadata": {
  "kernelspec": {
   "display_name": "Python 3",
   "language": "python",
   "name": "python3"
  },
  "language_info": {
   "codemirror_mode": {
    "name": "ipython",
    "version": 3
   },
   "file_extension": ".py",
   "mimetype": "text/x-python",
   "name": "python",
   "nbconvert_exporter": "python",
   "pygments_lexer": "ipython3",
   "version": "3.7.3"
  }
 },
 "nbformat": 4,
 "nbformat_minor": 4
}
